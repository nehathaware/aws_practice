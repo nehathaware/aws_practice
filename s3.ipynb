{
 "cells": [
  {
   "cell_type": "code",
   "execution_count": 1,
   "id": "c1395d81-684d-427e-92be-0b067e417230",
   "metadata": {},
   "outputs": [
    {
     "name": "stdout",
     "output_type": "stream",
     "text": [
      "Defaulting to user installation because normal site-packages is not writeable\n",
      "Requirement already satisfied: boto3 in c:\\users\\nehapc\\appdata\\roaming\\python\\python312\\site-packages (1.34.145)\n",
      "Requirement already satisfied: botocore<1.35.0,>=1.34.145 in c:\\users\\nehapc\\appdata\\roaming\\python\\python312\\site-packages (from boto3) (1.34.145)\n",
      "Requirement already satisfied: jmespath<2.0.0,>=0.7.1 in c:\\programdata\\anaconda3\\lib\\site-packages (from boto3) (1.0.1)\n",
      "Requirement already satisfied: s3transfer<0.11.0,>=0.10.0 in c:\\users\\nehapc\\appdata\\roaming\\python\\python312\\site-packages (from boto3) (0.10.2)\n",
      "Requirement already satisfied: python-dateutil<3.0.0,>=2.1 in c:\\programdata\\anaconda3\\lib\\site-packages (from botocore<1.35.0,>=1.34.145->boto3) (2.9.0.post0)\n",
      "Requirement already satisfied: urllib3!=2.2.0,<3,>=1.25.4 in c:\\programdata\\anaconda3\\lib\\site-packages (from botocore<1.35.0,>=1.34.145->boto3) (2.2.2)\n",
      "Requirement already satisfied: six>=1.5 in c:\\programdata\\anaconda3\\lib\\site-packages (from python-dateutil<3.0.0,>=2.1->botocore<1.35.0,>=1.34.145->boto3) (1.16.0)\n"
     ]
    },
    {
     "name": "stderr",
     "output_type": "stream",
     "text": [
      "\n",
      "[notice] A new release of pip is available: 24.1.2 -> 24.2\n",
      "[notice] To update, run: python.exe -m pip install --upgrade pip\n"
     ]
    }
   ],
   "source": [
    "#!pip install boto3"
   ]
  },
  {
   "cell_type": "code",
   "execution_count": 3,
   "id": "acfa9725-34f1-4e58-9742-2e359f690853",
   "metadata": {},
   "outputs": [],
   "source": [
    "import boto3\n",
    "import pandas as pd"
   ]
  },
  {
   "cell_type": "code",
   "execution_count": 5,
   "id": "f450e8f1-6175-4b58-ac51-2c1bbe27985c",
   "metadata": {},
   "outputs": [],
   "source": [
    "# read data from s3 bucket\n",
    "s3 = boto3.resource(\n",
    "    service_name = 's3',\n",
    "    region_name = 'us-east-1',\n",
    "    aws_access_key_id = '',\n",
    "    aws_secret_access_key = ''\n",
    ")"
   ]
  },
  {
   "cell_type": "code",
   "execution_count": 17,
   "id": "b039d99c-26cd-405f-ac4c-07eefffb1de3",
   "metadata": {},
   "outputs": [
    {
     "name": "stdout",
     "output_type": "stream",
     "text": [
      "krishaws1\n",
      "myfirstdemobucket\n",
      "usvisa-bucket0624\n"
     ]
    }
   ],
   "source": [
    "# list down all the buckets present\n",
    "for bucket in s3.buckets.all():\n",
    "    print(bucket.name)"
   ]
  },
  {
   "cell_type": "code",
   "execution_count": 19,
   "id": "e384d774-4c5c-427e-8019-725a18f39bcf",
   "metadata": {},
   "outputs": [
    {
     "name": "stdout",
     "output_type": "stream",
     "text": [
      "Defaulting to user installation because normal site-packages is not writeable\n",
      "Requirement already satisfied: s3fs in c:\\programdata\\anaconda3\\lib\\site-packages (2024.3.1)\n",
      "Requirement already satisfied: aiobotocore<3.0.0,>=2.5.4 in c:\\programdata\\anaconda3\\lib\\site-packages (from s3fs) (2.12.3)\n",
      "Requirement already satisfied: fsspec==2024.3.1 in c:\\programdata\\anaconda3\\lib\\site-packages (from s3fs) (2024.3.1)\n",
      "Requirement already satisfied: aiohttp!=4.0.0a0,!=4.0.0a1 in c:\\programdata\\anaconda3\\lib\\site-packages (from s3fs) (3.9.5)\n",
      "Collecting botocore<1.34.70,>=1.34.41 (from aiobotocore<3.0.0,>=2.5.4->s3fs)\n",
      "  Downloading botocore-1.34.69-py3-none-any.whl.metadata (5.7 kB)\n",
      "Requirement already satisfied: wrapt<2.0.0,>=1.10.10 in c:\\programdata\\anaconda3\\lib\\site-packages (from aiobotocore<3.0.0,>=2.5.4->s3fs) (1.14.1)\n",
      "Requirement already satisfied: aioitertools<1.0.0,>=0.5.1 in c:\\programdata\\anaconda3\\lib\\site-packages (from aiobotocore<3.0.0,>=2.5.4->s3fs) (0.7.1)\n",
      "Requirement already satisfied: aiosignal>=1.1.2 in c:\\programdata\\anaconda3\\lib\\site-packages (from aiohttp!=4.0.0a0,!=4.0.0a1->s3fs) (1.2.0)\n",
      "Requirement already satisfied: attrs>=17.3.0 in c:\\programdata\\anaconda3\\lib\\site-packages (from aiohttp!=4.0.0a0,!=4.0.0a1->s3fs) (23.1.0)\n",
      "Requirement already satisfied: frozenlist>=1.1.1 in c:\\programdata\\anaconda3\\lib\\site-packages (from aiohttp!=4.0.0a0,!=4.0.0a1->s3fs) (1.4.0)\n",
      "Requirement already satisfied: multidict<7.0,>=4.5 in c:\\programdata\\anaconda3\\lib\\site-packages (from aiohttp!=4.0.0a0,!=4.0.0a1->s3fs) (6.0.4)\n",
      "Requirement already satisfied: yarl<2.0,>=1.0 in c:\\programdata\\anaconda3\\lib\\site-packages (from aiohttp!=4.0.0a0,!=4.0.0a1->s3fs) (1.9.3)\n",
      "Requirement already satisfied: typing_extensions>=3.7 in c:\\programdata\\anaconda3\\lib\\site-packages (from aioitertools<1.0.0,>=0.5.1->aiobotocore<3.0.0,>=2.5.4->s3fs) (4.11.0)\n",
      "Requirement already satisfied: jmespath<2.0.0,>=0.7.1 in c:\\programdata\\anaconda3\\lib\\site-packages (from botocore<1.34.70,>=1.34.41->aiobotocore<3.0.0,>=2.5.4->s3fs) (1.0.1)\n",
      "Requirement already satisfied: python-dateutil<3.0.0,>=2.1 in c:\\programdata\\anaconda3\\lib\\site-packages (from botocore<1.34.70,>=1.34.41->aiobotocore<3.0.0,>=2.5.4->s3fs) (2.9.0.post0)\n",
      "Requirement already satisfied: urllib3!=2.2.0,<3,>=1.25.4 in c:\\programdata\\anaconda3\\lib\\site-packages (from botocore<1.34.70,>=1.34.41->aiobotocore<3.0.0,>=2.5.4->s3fs) (2.2.2)\n",
      "Requirement already satisfied: idna>=2.0 in c:\\programdata\\anaconda3\\lib\\site-packages (from yarl<2.0,>=1.0->aiohttp!=4.0.0a0,!=4.0.0a1->s3fs) (3.7)\n",
      "Requirement already satisfied: six>=1.5 in c:\\programdata\\anaconda3\\lib\\site-packages (from python-dateutil<3.0.0,>=2.1->botocore<1.34.70,>=1.34.41->aiobotocore<3.0.0,>=2.5.4->s3fs) (1.16.0)\n",
      "Downloading botocore-1.34.69-py3-none-any.whl (12.0 MB)\n",
      "   ---------------------------------------- 0.0/12.0 MB ? eta -:--:--\n",
      "   ---------------------------------------- 0.1/12.0 MB 1.7 MB/s eta 0:00:08\n",
      "   ---------------------------------------- 0.1/12.0 MB 1.7 MB/s eta 0:00:07\n",
      "    --------------------------------------- 0.2/12.0 MB 1.6 MB/s eta 0:00:08\n",
      "    --------------------------------------- 0.3/12.0 MB 1.4 MB/s eta 0:00:09\n",
      "   - -------------------------------------- 0.3/12.0 MB 1.4 MB/s eta 0:00:09\n",
      "   - -------------------------------------- 0.4/12.0 MB 1.4 MB/s eta 0:00:09\n",
      "   - -------------------------------------- 0.5/12.0 MB 1.4 MB/s eta 0:00:09\n",
      "   - -------------------------------------- 0.5/12.0 MB 1.5 MB/s eta 0:00:08\n",
      "   - -------------------------------------- 0.6/12.0 MB 1.5 MB/s eta 0:00:08\n",
      "   -- ------------------------------------- 0.6/12.0 MB 1.4 MB/s eta 0:00:08\n",
      "   -- ------------------------------------- 0.7/12.0 MB 1.4 MB/s eta 0:00:09\n",
      "   -- ------------------------------------- 0.7/12.0 MB 1.3 MB/s eta 0:00:09\n",
      "   -- ------------------------------------- 0.8/12.0 MB 1.3 MB/s eta 0:00:09\n",
      "   -- ------------------------------------- 0.8/12.0 MB 1.3 MB/s eta 0:00:09\n",
      "   -- ------------------------------------- 0.8/12.0 MB 1.2 MB/s eta 0:00:10\n",
      "   --- ------------------------------------ 0.9/12.0 MB 1.3 MB/s eta 0:00:09\n",
      "   --- ------------------------------------ 1.0/12.0 MB 1.3 MB/s eta 0:00:09\n",
      "   --- ------------------------------------ 1.2/12.0 MB 1.4 MB/s eta 0:00:08\n",
      "   ---- ----------------------------------- 1.3/12.0 MB 1.4 MB/s eta 0:00:08\n",
      "   ---- ----------------------------------- 1.3/12.0 MB 1.4 MB/s eta 0:00:08\n",
      "   ---- ----------------------------------- 1.4/12.0 MB 1.4 MB/s eta 0:00:08\n",
      "   ---- ----------------------------------- 1.4/12.0 MB 1.4 MB/s eta 0:00:08\n",
      "   ---- ----------------------------------- 1.5/12.0 MB 1.4 MB/s eta 0:00:08\n",
      "   ----- ---------------------------------- 1.6/12.0 MB 1.4 MB/s eta 0:00:08\n",
      "   ----- ---------------------------------- 1.6/12.0 MB 1.4 MB/s eta 0:00:08\n",
      "   ----- ---------------------------------- 1.6/12.0 MB 1.4 MB/s eta 0:00:08\n",
      "   ----- ---------------------------------- 1.7/12.0 MB 1.4 MB/s eta 0:00:08\n",
      "   ----- ---------------------------------- 1.7/12.0 MB 1.3 MB/s eta 0:00:08\n",
      "   ----- ---------------------------------- 1.7/12.0 MB 1.3 MB/s eta 0:00:08\n",
      "   ------ --------------------------------- 1.8/12.0 MB 1.3 MB/s eta 0:00:08\n",
      "   ------ --------------------------------- 1.9/12.0 MB 1.3 MB/s eta 0:00:08\n",
      "   ------ --------------------------------- 1.9/12.0 MB 1.3 MB/s eta 0:00:08\n",
      "   ------ --------------------------------- 2.0/12.0 MB 1.3 MB/s eta 0:00:08\n",
      "   ------ --------------------------------- 2.0/12.0 MB 1.3 MB/s eta 0:00:08\n",
      "   ------ --------------------------------- 2.1/12.0 MB 1.3 MB/s eta 0:00:08\n",
      "   ------ --------------------------------- 2.1/12.0 MB 1.3 MB/s eta 0:00:08\n",
      "   ------- -------------------------------- 2.1/12.0 MB 1.2 MB/s eta 0:00:08\n",
      "   ------- -------------------------------- 2.2/12.0 MB 1.2 MB/s eta 0:00:08\n",
      "   ------- -------------------------------- 2.2/12.0 MB 1.2 MB/s eta 0:00:08\n",
      "   ------- -------------------------------- 2.2/12.0 MB 1.2 MB/s eta 0:00:09\n",
      "   ------- -------------------------------- 2.2/12.0 MB 1.2 MB/s eta 0:00:09\n",
      "   ------- -------------------------------- 2.3/12.0 MB 1.2 MB/s eta 0:00:09\n",
      "   ------- -------------------------------- 2.4/12.0 MB 1.2 MB/s eta 0:00:08\n",
      "   -------- ------------------------------- 2.4/12.0 MB 1.2 MB/s eta 0:00:09\n",
      "   -------- ------------------------------- 2.5/12.0 MB 1.2 MB/s eta 0:00:09\n",
      "   -------- ------------------------------- 2.5/12.0 MB 1.2 MB/s eta 0:00:09\n",
      "   -------- ------------------------------- 2.6/12.0 MB 1.2 MB/s eta 0:00:08\n",
      "   -------- ------------------------------- 2.6/12.0 MB 1.2 MB/s eta 0:00:08\n",
      "   -------- ------------------------------- 2.7/12.0 MB 1.2 MB/s eta 0:00:08\n",
      "   --------- ------------------------------ 2.7/12.0 MB 1.2 MB/s eta 0:00:08\n",
      "   --------- ------------------------------ 2.8/12.0 MB 1.2 MB/s eta 0:00:08\n",
      "   --------- ------------------------------ 2.9/12.0 MB 1.2 MB/s eta 0:00:08\n",
      "   --------- ------------------------------ 2.9/12.0 MB 1.2 MB/s eta 0:00:08\n",
      "   --------- ------------------------------ 2.9/12.0 MB 1.2 MB/s eta 0:00:08\n",
      "   --------- ------------------------------ 3.0/12.0 MB 1.2 MB/s eta 0:00:08\n",
      "   --------- ------------------------------ 3.0/12.0 MB 1.2 MB/s eta 0:00:08\n",
      "   --------- ------------------------------ 3.0/12.0 MB 1.1 MB/s eta 0:00:08\n",
      "   ---------- ----------------------------- 3.0/12.0 MB 1.1 MB/s eta 0:00:08\n",
      "   ---------- ----------------------------- 3.1/12.0 MB 1.1 MB/s eta 0:00:08\n",
      "   ---------- ----------------------------- 3.2/12.0 MB 1.2 MB/s eta 0:00:08\n",
      "   ---------- ----------------------------- 3.3/12.0 MB 1.2 MB/s eta 0:00:08\n",
      "   ----------- ---------------------------- 3.4/12.0 MB 1.2 MB/s eta 0:00:08\n",
      "   ----------- ---------------------------- 3.5/12.0 MB 1.2 MB/s eta 0:00:08\n",
      "   ----------- ---------------------------- 3.5/12.0 MB 1.2 MB/s eta 0:00:08\n",
      "   ----------- ---------------------------- 3.6/12.0 MB 1.2 MB/s eta 0:00:08\n",
      "   ----------- ---------------------------- 3.6/12.0 MB 1.2 MB/s eta 0:00:08\n",
      "   ------------ --------------------------- 3.6/12.0 MB 1.2 MB/s eta 0:00:08\n",
      "   ------------ --------------------------- 3.7/12.0 MB 1.2 MB/s eta 0:00:08\n",
      "   ------------ --------------------------- 3.7/12.0 MB 1.2 MB/s eta 0:00:08\n",
      "   ------------ --------------------------- 3.8/12.0 MB 1.2 MB/s eta 0:00:08\n",
      "   ------------ --------------------------- 3.8/12.0 MB 1.2 MB/s eta 0:00:08\n",
      "   ------------ --------------------------- 3.9/12.0 MB 1.2 MB/s eta 0:00:08\n",
      "   ------------- -------------------------- 3.9/12.0 MB 1.2 MB/s eta 0:00:07\n",
      "   ------------- -------------------------- 4.0/12.0 MB 1.2 MB/s eta 0:00:07\n",
      "   ------------- -------------------------- 4.1/12.0 MB 1.2 MB/s eta 0:00:07\n",
      "   ------------- -------------------------- 4.1/12.0 MB 1.2 MB/s eta 0:00:07\n",
      "   ------------- -------------------------- 4.1/12.0 MB 1.2 MB/s eta 0:00:07\n",
      "   ------------- -------------------------- 4.1/12.0 MB 1.1 MB/s eta 0:00:07\n",
      "   ------------- -------------------------- 4.2/12.0 MB 1.1 MB/s eta 0:00:07\n",
      "   ------------- -------------------------- 4.2/12.0 MB 1.1 MB/s eta 0:00:07\n",
      "   -------------- ------------------------- 4.2/12.0 MB 1.1 MB/s eta 0:00:07\n",
      "   -------------- ------------------------- 4.3/12.0 MB 1.1 MB/s eta 0:00:07\n",
      "   -------------- ------------------------- 4.3/12.0 MB 1.1 MB/s eta 0:00:07\n",
      "   -------------- ------------------------- 4.3/12.0 MB 1.1 MB/s eta 0:00:07\n",
      "   -------------- ------------------------- 4.4/12.0 MB 1.1 MB/s eta 0:00:07\n",
      "   -------------- ------------------------- 4.4/12.0 MB 1.1 MB/s eta 0:00:07\n",
      "   --------------- ------------------------ 4.5/12.0 MB 1.1 MB/s eta 0:00:07\n",
      "   --------------- ------------------------ 4.6/12.0 MB 1.1 MB/s eta 0:00:07\n",
      "   --------------- ------------------------ 4.6/12.0 MB 1.1 MB/s eta 0:00:07\n",
      "   --------------- ------------------------ 4.7/12.0 MB 1.1 MB/s eta 0:00:07\n",
      "   --------------- ------------------------ 4.7/12.0 MB 1.1 MB/s eta 0:00:07\n",
      "   ---------------- ----------------------- 4.8/12.0 MB 1.1 MB/s eta 0:00:07\n",
      "   ---------------- ----------------------- 4.9/12.0 MB 1.1 MB/s eta 0:00:07\n",
      "   ---------------- ----------------------- 4.9/12.0 MB 1.1 MB/s eta 0:00:07\n",
      "   ---------------- ----------------------- 4.9/12.0 MB 1.1 MB/s eta 0:00:07\n",
      "   ---------------- ----------------------- 5.0/12.0 MB 1.1 MB/s eta 0:00:07\n",
      "   ---------------- ----------------------- 5.0/12.0 MB 1.1 MB/s eta 0:00:07\n",
      "   ---------------- ----------------------- 5.1/12.0 MB 1.1 MB/s eta 0:00:07\n",
      "   ----------------- ---------------------- 5.1/12.0 MB 1.1 MB/s eta 0:00:07\n",
      "   ----------------- ---------------------- 5.2/12.0 MB 1.1 MB/s eta 0:00:07\n",
      "   ----------------- ---------------------- 5.2/12.0 MB 1.1 MB/s eta 0:00:07\n",
      "   ----------------- ---------------------- 5.3/12.0 MB 1.1 MB/s eta 0:00:07\n",
      "   ----------------- ---------------------- 5.3/12.0 MB 1.1 MB/s eta 0:00:07\n",
      "   ----------------- ---------------------- 5.3/12.0 MB 1.1 MB/s eta 0:00:07\n",
      "   ----------------- ---------------------- 5.4/12.0 MB 1.1 MB/s eta 0:00:07\n",
      "   ----------------- ---------------------- 5.4/12.0 MB 1.1 MB/s eta 0:00:07\n",
      "   ------------------ --------------------- 5.4/12.0 MB 1.1 MB/s eta 0:00:07\n",
      "   ------------------ --------------------- 5.4/12.0 MB 1.1 MB/s eta 0:00:07\n",
      "   ------------------ --------------------- 5.5/12.0 MB 1.1 MB/s eta 0:00:07\n",
      "   ------------------ --------------------- 5.5/12.0 MB 1.1 MB/s eta 0:00:07\n",
      "   ------------------ --------------------- 5.5/12.0 MB 1.1 MB/s eta 0:00:07\n",
      "   ------------------ --------------------- 5.6/12.0 MB 1.1 MB/s eta 0:00:06\n",
      "   ------------------ --------------------- 5.6/12.0 MB 1.1 MB/s eta 0:00:07\n",
      "   ------------------ --------------------- 5.6/12.0 MB 1.1 MB/s eta 0:00:07\n",
      "   ------------------ --------------------- 5.6/12.0 MB 1.1 MB/s eta 0:00:07\n",
      "   ------------------ --------------------- 5.7/12.0 MB 1.1 MB/s eta 0:00:07\n",
      "   ------------------ --------------------- 5.7/12.0 MB 1.1 MB/s eta 0:00:07\n",
      "   ------------------- -------------------- 5.7/12.0 MB 1.0 MB/s eta 0:00:07\n",
      "   ------------------- -------------------- 5.7/12.0 MB 1.0 MB/s eta 0:00:07\n",
      "   ------------------- -------------------- 5.8/12.0 MB 1.0 MB/s eta 0:00:06\n",
      "   ------------------- -------------------- 5.8/12.0 MB 1.0 MB/s eta 0:00:06\n",
      "   ------------------- -------------------- 5.8/12.0 MB 1.0 MB/s eta 0:00:07\n",
      "   ------------------- -------------------- 5.8/12.0 MB 1.0 MB/s eta 0:00:07\n",
      "   ------------------- -------------------- 5.9/12.0 MB 1.0 MB/s eta 0:00:07\n",
      "   ------------------- -------------------- 5.9/12.0 MB 1.0 MB/s eta 0:00:07\n",
      "   ------------------- -------------------- 5.9/12.0 MB 1.0 MB/s eta 0:00:06\n",
      "   ------------------- -------------------- 5.9/12.0 MB 1.0 MB/s eta 0:00:06\n",
      "   ------------------- -------------------- 6.0/12.0 MB 1.0 MB/s eta 0:00:06\n",
      "   ------------------- -------------------- 6.0/12.0 MB 1.0 MB/s eta 0:00:06\n",
      "   ------------------- -------------------- 6.0/12.0 MB 1.0 MB/s eta 0:00:06\n",
      "   -------------------- ------------------- 6.0/12.0 MB 995.7 kB/s eta 0:00:07\n",
      "   -------------------- ------------------- 6.1/12.0 MB 992.3 kB/s eta 0:00:07\n",
      "   -------------------- ------------------- 6.1/12.0 MB 988.1 kB/s eta 0:00:07\n",
      "   -------------------- ------------------- 6.1/12.0 MB 983.9 kB/s eta 0:00:07\n",
      "   -------------------- ------------------- 6.2/12.0 MB 985.6 kB/s eta 0:00:06\n",
      "   -------------------- ------------------- 6.2/12.0 MB 986.3 kB/s eta 0:00:06\n",
      "   -------------------- ------------------- 6.3/12.0 MB 984.6 kB/s eta 0:00:06\n",
      "   -------------------- ------------------- 6.3/12.0 MB 983.0 kB/s eta 0:00:06\n",
      "   -------------------- ------------------- 6.3/12.0 MB 978.2 kB/s eta 0:00:06\n",
      "   --------------------- ------------------ 6.3/12.0 MB 979.8 kB/s eta 0:00:06\n",
      "   --------------------- ------------------ 6.4/12.0 MB 981.5 kB/s eta 0:00:06\n",
      "   --------------------- ------------------ 6.5/12.0 MB 982.3 kB/s eta 0:00:06\n",
      "   --------------------- ------------------ 6.5/12.0 MB 983.9 kB/s eta 0:00:06\n",
      "   --------------------- ------------------ 6.6/12.0 MB 985.3 kB/s eta 0:00:06\n",
      "   ---------------------- ----------------- 6.6/12.0 MB 986.1 kB/s eta 0:00:06\n",
      "   ---------------------- ----------------- 6.6/12.0 MB 985.4 kB/s eta 0:00:06\n",
      "   ---------------------- ----------------- 6.7/12.0 MB 981.5 kB/s eta 0:00:06\n",
      "   ---------------------- ----------------- 6.7/12.0 MB 984.5 kB/s eta 0:00:06\n",
      "   ---------------------- ----------------- 6.8/12.0 MB 985.2 kB/s eta 0:00:06\n",
      "   ---------------------- ----------------- 6.8/12.0 MB 983.0 kB/s eta 0:00:06\n",
      "   ---------------------- ----------------- 6.9/12.0 MB 980.9 kB/s eta 0:00:06\n",
      "   ----------------------- ---------------- 6.9/12.0 MB 983.1 kB/s eta 0:00:06\n",
      "   ----------------------- ---------------- 7.0/12.0 MB 988.1 kB/s eta 0:00:06\n",
      "   ----------------------- ---------------- 7.1/12.0 MB 998.8 kB/s eta 0:00:05\n",
      "   ----------------------- ---------------- 7.2/12.0 MB 1.0 MB/s eta 0:00:05\n",
      "   ------------------------ --------------- 7.4/12.0 MB 1.0 MB/s eta 0:00:05\n",
      "   ------------------------ --------------- 7.4/12.0 MB 1.0 MB/s eta 0:00:05\n",
      "   ------------------------- -------------- 7.6/12.0 MB 1.0 MB/s eta 0:00:05\n",
      "   ------------------------- -------------- 7.7/12.0 MB 1.0 MB/s eta 0:00:05\n",
      "   -------------------------- ------------- 7.8/12.0 MB 1.1 MB/s eta 0:00:04\n",
      "   -------------------------- ------------- 7.9/12.0 MB 1.1 MB/s eta 0:00:04\n",
      "   -------------------------- ------------- 8.0/12.0 MB 1.1 MB/s eta 0:00:04\n",
      "   --------------------------- ------------ 8.3/12.0 MB 1.1 MB/s eta 0:00:04\n",
      "   ---------------------------- ----------- 8.5/12.0 MB 1.1 MB/s eta 0:00:04\n",
      "   ----------------------------- ---------- 8.7/12.0 MB 1.1 MB/s eta 0:00:03\n",
      "   ----------------------------- ---------- 8.7/12.0 MB 1.1 MB/s eta 0:00:03\n",
      "   ----------------------------- ---------- 8.8/12.0 MB 1.1 MB/s eta 0:00:03\n",
      "   ----------------------------- ---------- 8.9/12.0 MB 1.1 MB/s eta 0:00:03\n",
      "   ----------------------------- ---------- 9.0/12.0 MB 1.1 MB/s eta 0:00:03\n",
      "   ------------------------------- -------- 9.4/12.0 MB 1.2 MB/s eta 0:00:03\n",
      "   ------------------------------- -------- 9.5/12.0 MB 1.2 MB/s eta 0:00:03\n",
      "   -------------------------------- ------- 9.7/12.0 MB 1.2 MB/s eta 0:00:02\n",
      "   --------------------------------- ------ 10.1/12.0 MB 1.3 MB/s eta 0:00:02\n",
      "   ---------------------------------- ----- 10.4/12.0 MB 1.3 MB/s eta 0:00:02\n",
      "   ---------------------------------- ----- 10.5/12.0 MB 1.3 MB/s eta 0:00:02\n",
      "   ----------------------------------- ---- 10.8/12.0 MB 1.3 MB/s eta 0:00:01\n",
      "   ----------------------------------- ---- 10.8/12.0 MB 1.3 MB/s eta 0:00:01\n",
      "   ------------------------------------ --- 11.0/12.0 MB 1.3 MB/s eta 0:00:01\n",
      "   ------------------------------------- -- 11.3/12.0 MB 1.4 MB/s eta 0:00:01\n",
      "   -------------------------------------- - 11.6/12.0 MB 1.4 MB/s eta 0:00:01\n",
      "   ---------------------------------------  11.8/12.0 MB 1.4 MB/s eta 0:00:01\n",
      "   ---------------------------------------  12.0/12.0 MB 1.4 MB/s eta 0:00:01\n",
      "   ---------------------------------------  12.0/12.0 MB 1.4 MB/s eta 0:00:01\n",
      "   ---------------------------------------- 12.0/12.0 MB 1.4 MB/s eta 0:00:00\n",
      "Installing collected packages: botocore\n",
      "  Attempting uninstall: botocore\n",
      "    Found existing installation: botocore 1.34.145\n",
      "    Uninstalling botocore-1.34.145:\n",
      "      Successfully uninstalled botocore-1.34.145\n",
      "Successfully installed botocore-1.34.69\n"
     ]
    },
    {
     "name": "stderr",
     "output_type": "stream",
     "text": [
      "ERROR: pip's dependency resolver does not currently take into account all the packages that are installed. This behaviour is the source of the following dependency conflicts.\n",
      "boto3 1.34.145 requires botocore<1.35.0,>=1.34.145, but you have botocore 1.34.69 which is incompatible.\n",
      "\n",
      "[notice] A new release of pip is available: 24.1.2 -> 24.2\n",
      "[notice] To update, run: python.exe -m pip install --upgrade pip\n"
     ]
    }
   ],
   "source": [
    "#!pip install s3fs"
   ]
  },
  {
   "cell_type": "code",
   "execution_count": 21,
   "id": "1b91a83c-131a-4bf0-b964-87af368582de",
   "metadata": {},
   "outputs": [],
   "source": [
    "foo = pd.DataFrame({'x':[1,2,3,4,5],'y':['a','b','c','d','e']})\n",
    "bar = pd.DataFrame({'x':[10,20,30,40,50],'y':['aa','bb','cc','dd','ee']})"
   ]
  },
  {
   "cell_type": "code",
   "execution_count": 23,
   "id": "ebd17bf4-5c4a-4cd7-9d3b-fa961ff4b26e",
   "metadata": {},
   "outputs": [],
   "source": [
    "foo.to_csv('foo.csv')\n",
    "bar.to_csv('bar.csv')"
   ]
  },
  {
   "cell_type": "code",
   "execution_count": 29,
   "id": "29609fdd-ab08-4035-8453-65f668ab7a0b",
   "metadata": {},
   "outputs": [],
   "source": [
    "# upload files to bucket\n",
    "s3.Bucket('krishaws1').upload_file(Filename='foo.csv', Key='foo.csv')\n",
    "s3.Bucket('krishaws1').upload_file(Filename='bar.csv', Key='bar.csv')"
   ]
  },
  {
   "cell_type": "code",
   "execution_count": 31,
   "id": "fd09322a-9c5a-4e2b-88bf-413f9dec629a",
   "metadata": {},
   "outputs": [
    {
     "name": "stdout",
     "output_type": "stream",
     "text": [
      "s3.ObjectSummary(bucket_name='krishaws1', key='bar.csv')\n",
      "s3.ObjectSummary(bucket_name='krishaws1', key='foo.csv')\n"
     ]
    }
   ],
   "source": [
    "for obj in s3.Bucket('krishaws1').objects.all():\n",
    "    print(obj)"
   ]
  },
  {
   "cell_type": "code",
   "execution_count": 37,
   "id": "473f671d-b268-4109-98b8-feabeed41db8",
   "metadata": {},
   "outputs": [
    {
     "data": {
      "text/plain": [
       "{'ResponseMetadata': {'RequestId': 'C8RB9DY6MNN91KV6',\n",
       "  'HostId': 'Yt7Y4PUD+jXE55ILZK27wc/vsUVxhYhQ0OgUBNLp8oelyJd4GMZTp9503100JBlevdXUQSEnqM8=',\n",
       "  'HTTPStatusCode': 200,\n",
       "  'HTTPHeaders': {'x-amz-id-2': 'Yt7Y4PUD+jXE55ILZK27wc/vsUVxhYhQ0OgUBNLp8oelyJd4GMZTp9503100JBlevdXUQSEnqM8=',\n",
       "   'x-amz-request-id': 'C8RB9DY6MNN91KV6',\n",
       "   'date': 'Wed, 14 Aug 2024 17:38:02 GMT',\n",
       "   'last-modified': 'Wed, 14 Aug 2024 17:31:18 GMT',\n",
       "   'etag': '\"2084623d6a4613b9e8233c79637d5cfc\"',\n",
       "   'x-amz-server-side-encryption': 'AES256',\n",
       "   'x-amz-version-id': 'PUMt71fZD5AyW90Bd4NoQw_6MN40P3Jk',\n",
       "   'accept-ranges': 'bytes',\n",
       "   'content-type': 'binary/octet-stream',\n",
       "   'server': 'AmazonS3',\n",
       "   'content-length': '41'},\n",
       "  'RetryAttempts': 0},\n",
       " 'AcceptRanges': 'bytes',\n",
       " 'LastModified': datetime.datetime(2024, 8, 14, 17, 31, 18, tzinfo=tzutc()),\n",
       " 'ContentLength': 41,\n",
       " 'ETag': '\"2084623d6a4613b9e8233c79637d5cfc\"',\n",
       " 'VersionId': 'PUMt71fZD5AyW90Bd4NoQw_6MN40P3Jk',\n",
       " 'ContentType': 'binary/octet-stream',\n",
       " 'ServerSideEncryption': 'AES256',\n",
       " 'Metadata': {},\n",
       " 'Body': <botocore.response.StreamingBody at 0x1c0af09ff10>}"
      ]
     },
     "execution_count": 37,
     "metadata": {},
     "output_type": "execute_result"
    }
   ],
   "source": [
    "s3.Bucket('krishaws1').Object('foo.csv').get()"
   ]
  },
  {
   "cell_type": "code",
   "execution_count": 39,
   "id": "35e076df-ff69-4776-8fd2-e238879289a5",
   "metadata": {},
   "outputs": [],
   "source": [
    "# load csv to python from bucket\n",
    "obj = s3.Bucket('krishaws1').Object('foo.csv').get()\n",
    "foo = pd.read_csv(obj['Body'], index_col=0)\n",
    "\n",
    "obj = s3.Bucket('krishaws1').Object('bar.csv').get()\n",
    "bar = pd.read_csv(obj['Body'], index_col=0)"
   ]
  },
  {
   "cell_type": "code",
   "execution_count": 35,
   "id": "2a7e6544-318f-494b-8bee-02d92b804624",
   "metadata": {},
   "outputs": [
    {
     "data": {
      "text/html": [
       "<div>\n",
       "<style scoped>\n",
       "    .dataframe tbody tr th:only-of-type {\n",
       "        vertical-align: middle;\n",
       "    }\n",
       "\n",
       "    .dataframe tbody tr th {\n",
       "        vertical-align: top;\n",
       "    }\n",
       "\n",
       "    .dataframe thead th {\n",
       "        text-align: right;\n",
       "    }\n",
       "</style>\n",
       "<table border=\"1\" class=\"dataframe\">\n",
       "  <thead>\n",
       "    <tr style=\"text-align: right;\">\n",
       "      <th></th>\n",
       "      <th>x</th>\n",
       "      <th>y</th>\n",
       "    </tr>\n",
       "  </thead>\n",
       "  <tbody>\n",
       "    <tr>\n",
       "      <th>0</th>\n",
       "      <td>1</td>\n",
       "      <td>a</td>\n",
       "    </tr>\n",
       "    <tr>\n",
       "      <th>1</th>\n",
       "      <td>2</td>\n",
       "      <td>b</td>\n",
       "    </tr>\n",
       "    <tr>\n",
       "      <th>2</th>\n",
       "      <td>3</td>\n",
       "      <td>c</td>\n",
       "    </tr>\n",
       "    <tr>\n",
       "      <th>3</th>\n",
       "      <td>4</td>\n",
       "      <td>d</td>\n",
       "    </tr>\n",
       "    <tr>\n",
       "      <th>4</th>\n",
       "      <td>5</td>\n",
       "      <td>e</td>\n",
       "    </tr>\n",
       "  </tbody>\n",
       "</table>\n",
       "</div>"
      ],
      "text/plain": [
       "   x  y\n",
       "0  1  a\n",
       "1  2  b\n",
       "2  3  c\n",
       "3  4  d\n",
       "4  5  e"
      ]
     },
     "execution_count": 35,
     "metadata": {},
     "output_type": "execute_result"
    }
   ],
   "source": [
    "foo"
   ]
  },
  {
   "cell_type": "code",
   "execution_count": 41,
   "id": "0233d92b-c367-405d-8707-762212d1336f",
   "metadata": {},
   "outputs": [
    {
     "data": {
      "text/html": [
       "<div>\n",
       "<style scoped>\n",
       "    .dataframe tbody tr th:only-of-type {\n",
       "        vertical-align: middle;\n",
       "    }\n",
       "\n",
       "    .dataframe tbody tr th {\n",
       "        vertical-align: top;\n",
       "    }\n",
       "\n",
       "    .dataframe thead th {\n",
       "        text-align: right;\n",
       "    }\n",
       "</style>\n",
       "<table border=\"1\" class=\"dataframe\">\n",
       "  <thead>\n",
       "    <tr style=\"text-align: right;\">\n",
       "      <th></th>\n",
       "      <th>x</th>\n",
       "      <th>y</th>\n",
       "    </tr>\n",
       "  </thead>\n",
       "  <tbody>\n",
       "    <tr>\n",
       "      <th>0</th>\n",
       "      <td>10</td>\n",
       "      <td>aa</td>\n",
       "    </tr>\n",
       "    <tr>\n",
       "      <th>1</th>\n",
       "      <td>20</td>\n",
       "      <td>bb</td>\n",
       "    </tr>\n",
       "    <tr>\n",
       "      <th>2</th>\n",
       "      <td>30</td>\n",
       "      <td>cc</td>\n",
       "    </tr>\n",
       "    <tr>\n",
       "      <th>3</th>\n",
       "      <td>40</td>\n",
       "      <td>dd</td>\n",
       "    </tr>\n",
       "    <tr>\n",
       "      <th>4</th>\n",
       "      <td>50</td>\n",
       "      <td>ee</td>\n",
       "    </tr>\n",
       "  </tbody>\n",
       "</table>\n",
       "</div>"
      ],
      "text/plain": [
       "    x   y\n",
       "0  10  aa\n",
       "1  20  bb\n",
       "2  30  cc\n",
       "3  40  dd\n",
       "4  50  ee"
      ]
     },
     "execution_count": 41,
     "metadata": {},
     "output_type": "execute_result"
    }
   ],
   "source": [
    "bar"
   ]
  },
  {
   "cell_type": "code",
   "execution_count": 53,
   "id": "4033f227-f895-4ba3-ba30-a66f6312e24d",
   "metadata": {},
   "outputs": [],
   "source": [
    "s3.Bucket('krishaws1').download_file(Key='foo.csv', Filename='foo1.csv')"
   ]
  },
  {
   "cell_type": "code",
   "execution_count": 51,
   "id": "23480662-da12-4c3b-9362-46a5627ababb",
   "metadata": {},
   "outputs": [
    {
     "data": {
      "text/html": [
       "<div>\n",
       "<style scoped>\n",
       "    .dataframe tbody tr th:only-of-type {\n",
       "        vertical-align: middle;\n",
       "    }\n",
       "\n",
       "    .dataframe tbody tr th {\n",
       "        vertical-align: top;\n",
       "    }\n",
       "\n",
       "    .dataframe thead th {\n",
       "        text-align: right;\n",
       "    }\n",
       "</style>\n",
       "<table border=\"1\" class=\"dataframe\">\n",
       "  <thead>\n",
       "    <tr style=\"text-align: right;\">\n",
       "      <th></th>\n",
       "      <th>x</th>\n",
       "      <th>y</th>\n",
       "    </tr>\n",
       "  </thead>\n",
       "  <tbody>\n",
       "    <tr>\n",
       "      <th>0</th>\n",
       "      <td>1</td>\n",
       "      <td>a</td>\n",
       "    </tr>\n",
       "    <tr>\n",
       "      <th>1</th>\n",
       "      <td>2</td>\n",
       "      <td>b</td>\n",
       "    </tr>\n",
       "    <tr>\n",
       "      <th>2</th>\n",
       "      <td>3</td>\n",
       "      <td>c</td>\n",
       "    </tr>\n",
       "    <tr>\n",
       "      <th>3</th>\n",
       "      <td>4</td>\n",
       "      <td>d</td>\n",
       "    </tr>\n",
       "    <tr>\n",
       "      <th>4</th>\n",
       "      <td>5</td>\n",
       "      <td>e</td>\n",
       "    </tr>\n",
       "  </tbody>\n",
       "</table>\n",
       "</div>"
      ],
      "text/plain": [
       "   x  y\n",
       "0  1  a\n",
       "1  2  b\n",
       "2  3  c\n",
       "3  4  d\n",
       "4  5  e"
      ]
     },
     "execution_count": 51,
     "metadata": {},
     "output_type": "execute_result"
    }
   ],
   "source": [
    "# download file from s3 bucket\n",
    "s3.Bucket('krishaws1').download_file(Key='foo.csv', Filename='foo2.csv')\n",
    "pd.read_csv('foo2.csv',index_col=0)"
   ]
  },
  {
   "cell_type": "code",
   "execution_count": null,
   "id": "9e48efde-b131-4ae6-8aae-55b914611435",
   "metadata": {},
   "outputs": [],
   "source": []
  }
 ],
 "metadata": {
  "kernelspec": {
   "display_name": "Python 3 (ipykernel)",
   "language": "python",
   "name": "python3"
  },
  "language_info": {
   "codemirror_mode": {
    "name": "ipython",
    "version": 3
   },
   "file_extension": ".py",
   "mimetype": "text/x-python",
   "name": "python",
   "nbconvert_exporter": "python",
   "pygments_lexer": "ipython3",
   "version": "3.12.4"
  }
 },
 "nbformat": 4,
 "nbformat_minor": 5
}
